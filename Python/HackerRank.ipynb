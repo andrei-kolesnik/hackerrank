{
 "cells": [
  {
   "cell_type": "markdown",
   "metadata": {},
   "source": [
    "### Introduction"
   ]
  },
  {
   "cell_type": "markdown",
   "metadata": {},
   "source": [
    "[Say \"Hello, World!\" With Python](https://www.hackerrank.com/challenges/py-hello-world)"
   ]
  },
  {
   "cell_type": "code",
   "execution_count": 8,
   "metadata": {},
   "outputs": [
    {
     "name": "stdout",
     "output_type": "stream",
     "text": [
      "Hello, World!\n"
     ]
    }
   ],
   "source": [
    "print(\"Hello, World!\")"
   ]
  },
  {
   "cell_type": "markdown",
   "metadata": {},
   "source": [
    "[Python If-Else](https://www.hackerrank.com/challenges/py-if-else)"
   ]
  },
  {
   "cell_type": "code",
   "execution_count": 13,
   "metadata": {},
   "outputs": [
    {
     "name": "stdout",
     "output_type": "stream",
     "text": [
      "Weird\n"
     ]
    }
   ],
   "source": [
    "n = 3 #Weird\n",
    "#n = 24 #Not Weird\n",
    "if n % 2 == 1:\n",
    "    print(\"Weird\")\n",
    "elif n >=2 and n <= 5:\n",
    "    print(\"Not Weird\")\n",
    "elif n >=6 and n <= 20:\n",
    "    print(\"Weird\")\n",
    "else:\n",
    "    print(\"Not Weird\")"
   ]
  },
  {
   "cell_type": "markdown",
   "metadata": {},
   "source": [
    "[Arithmetic Operators](https://www.hackerrank.com/challenges/python-arithmetic-operators)"
   ]
  },
  {
   "cell_type": "code",
   "execution_count": 15,
   "metadata": {},
   "outputs": [
    {
     "name": "stdout",
     "output_type": "stream",
     "text": [
      "5\n",
      "1\n",
      "6\n"
     ]
    }
   ],
   "source": [
    "a = 3\n",
    "b = 2\n",
    "print (a+b)\n",
    "print (a-b)\n",
    "print (a*b)"
   ]
  },
  {
   "cell_type": "markdown",
   "metadata": {},
   "source": [
    "[Python: Division](https://www.hackerrank.com/challenges/python-division)"
   ]
  },
  {
   "cell_type": "code",
   "execution_count": 17,
   "metadata": {},
   "outputs": [
    {
     "name": "stdout",
     "output_type": "stream",
     "text": [
      "1\n",
      "1.3333333333333333\n"
     ]
    }
   ],
   "source": [
    "a = 4\n",
    "b = 3\n",
    "print (a//b)\n",
    "print (a/b)"
   ]
  },
  {
   "cell_type": "markdown",
   "metadata": {},
   "source": [
    "[Loops](https://www.hackerrank.com/challenges/python-loops)"
   ]
  },
  {
   "cell_type": "code",
   "execution_count": 22,
   "metadata": {},
   "outputs": [
    {
     "name": "stdout",
     "output_type": "stream",
     "text": [
      "0\n",
      "1\n",
      "4\n",
      "9\n",
      "16\n"
     ]
    }
   ],
   "source": [
    "n = 5\n",
    "for i in range(n):\n",
    "    print (i**2)"
   ]
  },
  {
   "cell_type": "markdown",
   "metadata": {},
   "source": [
    "[Write a function](https://www.hackerrank.com/challenges/write-a-function)"
   ]
  },
  {
   "cell_type": "code",
   "execution_count": 34,
   "metadata": {},
   "outputs": [
    {
     "name": "stdout",
     "output_type": "stream",
     "text": [
      "False\n"
     ]
    }
   ],
   "source": [
    "def is_leap(year):\n",
    "    leap = False\n",
    "    # Write your logic here\n",
    "    if year % 400 == 0:\n",
    "        leap = True\n",
    "    elif year % 100 == 0:\n",
    "        leap = False\n",
    "    elif year % 4 == 0:\n",
    "        leap = True\n",
    "    return leap\n",
    "\n",
    "year = 1990\n",
    "print (is_leap(year)) # False"
   ]
  },
  {
   "cell_type": "markdown",
   "metadata": {},
   "source": [
    "[Print Function](https://www.hackerrank.com/challenges/python-print)"
   ]
  },
  {
   "cell_type": "code",
   "execution_count": 38,
   "metadata": {},
   "outputs": [
    {
     "name": "stdout",
     "output_type": "stream",
     "text": [
      "123456789101112131415161718192021222324252627282930"
     ]
    }
   ],
   "source": [
    "n = 30\n",
    "for i in range(1, n+1):\n",
    "    print (i, sep = '', end = '')"
   ]
  },
  {
   "cell_type": "markdown",
   "metadata": {},
   "source": [
    "[Exceptions](https://www.hackerrank.com/challenges/exceptions)"
   ]
  },
  {
   "cell_type": "code",
   "execution_count": 48,
   "metadata": {},
   "outputs": [
    {
     "name": "stdout",
     "output_type": "stream",
     "text": [
      "3\n",
      "1 0\n",
      "Error Code: integer division or modulo by zero\n",
      "2 #\n",
      "Error Code: invalid literal for int() with base 10: '#'\n",
      "3 1\n",
      "3\n"
     ]
    }
   ],
   "source": [
    "for _ in range(int(input())):\n",
    "    try:\n",
    "        a, b = map(int, input().split())\n",
    "        print(a // b)\n",
    "    except (ZeroDivisionError, ValueError) as e:\n",
    "        print(\"Error Code:\", e)\n"
   ]
  },
  {
   "cell_type": "markdown",
   "metadata": {},
   "source": [
    "[Python Evaluation](https://www.hackerrank.com/challenges/python-eval)"
   ]
  },
  {
   "cell_type": "code",
   "execution_count": 157,
   "metadata": {},
   "outputs": [
    {
     "name": "stdout",
     "output_type": "stream",
     "text": [
      "print(2 + 3)\n",
      "5\n"
     ]
    }
   ],
   "source": [
    "eval(input())"
   ]
  },
  {
   "cell_type": "markdown",
   "metadata": {},
   "source": [
    "[Incorrect Regex](https://www.hackerrank.com/challenges/incorrect-regex)"
   ]
  },
  {
   "cell_type": "code",
   "execution_count": 51,
   "metadata": {},
   "outputs": [
    {
     "name": "stdout",
     "output_type": "stream",
     "text": [
      "2\n",
      ".*\\+\n",
      "True\n",
      ".*+\n",
      "False\n"
     ]
    }
   ],
   "source": [
    "import re\n",
    "for _ in range(int(input())):\n",
    "    expr = input()\n",
    "    try:\n",
    "        re.compile(expr)\n",
    "        print(True)\n",
    "    except:\n",
    "        print(False)"
   ]
  },
  {
   "cell_type": "markdown",
   "metadata": {},
   "source": [
    "### Strings"
   ]
  },
  {
   "cell_type": "markdown",
   "metadata": {},
   "source": [
    "[sWAP cASE](https://www.hackerrank.com/challenges/swap-case)"
   ]
  },
  {
   "cell_type": "code",
   "execution_count": 7,
   "metadata": {},
   "outputs": [
    {
     "name": "stdout",
     "output_type": "stream",
     "text": [
      "pYTHONIST 2\n"
     ]
    }
   ],
   "source": [
    "s = \"Pythonist 2\"\n",
    "print (s.swapcase())"
   ]
  },
  {
   "cell_type": "markdown",
   "metadata": {},
   "source": [
    "[String Split and Join](https://www.hackerrank.com/challenges/python-string-split-and-join)"
   ]
  },
  {
   "cell_type": "code",
   "execution_count": 14,
   "metadata": {},
   "outputs": [
    {
     "name": "stdout",
     "output_type": "stream",
     "text": [
      "this-is-a-string\n"
     ]
    }
   ],
   "source": [
    "s = \"this is a string\"\n",
    "print ('-'.join(s.split()))"
   ]
  },
  {
   "cell_type": "markdown",
   "metadata": {},
   "source": [
    "[What's Your Name?](https://www.hackerrank.com/challenges/whats-your-name)"
   ]
  },
  {
   "cell_type": "code",
   "execution_count": 16,
   "metadata": {},
   "outputs": [
    {
     "name": "stdout",
     "output_type": "stream",
     "text": [
      "Hello Ross Taylor! You just delved into python.\n"
     ]
    }
   ],
   "source": [
    "first_name = 'Ross'\n",
    "last_name = 'Taylor'\n",
    "print('Hello ' + first_name + ' ' + last_name + '! You just delved into python.')"
   ]
  },
  {
   "cell_type": "markdown",
   "metadata": {},
   "source": [
    "[Mutations](https://www.hackerrank.com/challenges/python-mutations)"
   ]
  },
  {
   "cell_type": "code",
   "execution_count": 21,
   "metadata": {},
   "outputs": [
    {
     "name": "stdout",
     "output_type": "stream",
     "text": [
      "abrackdabra\n",
      "abrackdabra\n"
     ]
    }
   ],
   "source": [
    "#using list\n",
    "string = \"abracadabra\"\n",
    "string_list = [c for c in string]\n",
    "string_list[5] = 'k'\n",
    "string = ''.join(string_list)\n",
    "print(string)\n",
    "\n",
    "#using split\n",
    "string = \"abracadabra\"\n",
    "string = string[:5] + 'k' + string[6:]\n",
    "print(string)"
   ]
  },
  {
   "cell_type": "markdown",
   "metadata": {},
   "source": [
    "[Find a string](https://www.hackerrank.com/challenges/find-a-string)"
   ]
  },
  {
   "cell_type": "code",
   "execution_count": 32,
   "metadata": {},
   "outputs": [
    {
     "name": "stdout",
     "output_type": "stream",
     "text": [
      "2\n"
     ]
    }
   ],
   "source": [
    "string = 'ABCDCDC'\n",
    "sub_string = 'CDC'\n",
    "start = 0\n",
    "end = len(string)\n",
    "result = 0\n",
    "while start < end:\n",
    "    start = string.find(sub_string, start, end) + 1\n",
    "    if start > 0:\n",
    "        result += 1\n",
    "    else:\n",
    "        break\n",
    "\n",
    "print(result)"
   ]
  },
  {
   "cell_type": "markdown",
   "metadata": {},
   "source": [
    "[String Validators](https://www.hackerrank.com/challenges/string-validators)"
   ]
  },
  {
   "cell_type": "code",
   "execution_count": 37,
   "metadata": {},
   "outputs": [
    {
     "name": "stdout",
     "output_type": "stream",
     "text": [
      "True\n",
      "True\n",
      "True\n",
      "True\n",
      "True\n"
     ]
    }
   ],
   "source": [
    "s = 'qA2'\n",
    "\n",
    "print(any(c.isalnum() for c in s))\n",
    "print(any(c.isalpha() for c in s))\n",
    "print(any(c.isdigit() for c in s))\n",
    "print(any(c.islower() for c in s))\n",
    "print(any(c.isupper() for c in s))"
   ]
  },
  {
   "cell_type": "markdown",
   "metadata": {},
   "source": [
    "[Text Alignment](https://www.hackerrank.com/challenges/text-alignment)"
   ]
  },
  {
   "cell_type": "code",
   "execution_count": 37,
   "metadata": {},
   "outputs": [
    {
     "name": "stdout",
     "output_type": "stream",
     "text": [
      "  H  \n",
      " HHH \n",
      "HHHHH\n",
      " HHH         HHH        \n",
      " HHH         HHH        \n",
      " HHH         HHH        \n",
      " HHH         HHH        \n",
      " HHHHHHHHHHHHHHH  \n",
      " HHHHHHHHHHHHHHH  \n",
      " HHH         HHH        \n",
      " HHH         HHH        \n",
      " HHH         HHH        \n",
      " HHH         HHH        \n",
      "            HHHHH \n",
      "             HHH  \n",
      "              H   \n"
     ]
    }
   ],
   "source": [
    "thickness = 3 #This must be an odd number\n",
    "c = 'H'\n",
    "\n",
    "#Top Cone\n",
    "for i in range(thickness):\n",
    "    print((c*i).rjust(thickness-1)+c+(c*i).ljust(thickness-1))\n",
    "\n",
    "#Top Pillars\n",
    "for i in range(thickness+1):\n",
    "    print((c*thickness).center(thickness*2)+(c*thickness).center(thickness*6))\n",
    "\n",
    "#Middle Belt\n",
    "for i in range((thickness+1)//2):\n",
    "    print((c*thickness*5).center(thickness*6))    \n",
    "\n",
    "#Bottom Pillars\n",
    "for i in range(thickness+1):\n",
    "    print((c*thickness).center(thickness*2)+(c*thickness).center(thickness*6))    \n",
    "\n",
    "#Bottom Cone\n",
    "for i in range(thickness):\n",
    "    print(((c*(thickness-i-1)).rjust(thickness)+c+(c*(thickness-i-1)).ljust(thickness)).rjust(thickness*6))\n"
   ]
  },
  {
   "cell_type": "markdown",
   "metadata": {},
   "source": [
    "[Text Wrap](https://www.hackerrank.com/challenges/text-wrap)"
   ]
  },
  {
   "cell_type": "code",
   "execution_count": 49,
   "metadata": {},
   "outputs": [
    {
     "name": "stdout",
     "output_type": "stream",
     "text": [
      "ABCD\n",
      "EFGH\n",
      "IJKL\n",
      "IMNO\n",
      "QRST\n",
      "UVWX\n",
      "YZ\n"
     ]
    }
   ],
   "source": [
    "import textwrap\n",
    "def wrap(string, max_width):\n",
    "    return textwrap.fill(string, max_width)\n",
    "\n",
    "string = 'ABCDEFGHIJKLIMNOQRSTUVWXYZ'\n",
    "max_width = 4\n",
    "print(wrap(string, max_width))"
   ]
  },
  {
   "cell_type": "markdown",
   "metadata": {},
   "source": [
    "[Designer Door Mat](https://www.hackerrank.com/challenges/designer-door-mat)"
   ]
  },
  {
   "cell_type": "code",
   "execution_count": 63,
   "metadata": {},
   "outputs": [
    {
     "name": "stdout",
     "output_type": "stream",
     "text": [
      "------------.|.------------\n",
      "---------.|..|..|.---------\n",
      "------.|..|..|..|..|.------\n",
      "---.|..|..|..|..|..|..|.---\n",
      "----------WELCOME----------\n",
      "---.|..|..|..|..|..|..|.---\n",
      "------.|..|..|..|..|.------\n",
      "---------.|..|..|.---------\n",
      "------------.|.------------\n"
     ]
    }
   ],
   "source": [
    "n = 9\n",
    "m = 27\n",
    "for i in range(n//2):\n",
    "    print(('.|.'*(2*i+1)).center(m, '-'))\n",
    "print('WELCOME'.center(m, '-'))\n",
    "for i in range(n//2-1, -1, -1):\n",
    "    print(('.|.'*(2*i+1)).center(m, '-'))\n"
   ]
  },
  {
   "cell_type": "markdown",
   "metadata": {},
   "source": [
    "[String Formatting](https://www.hackerrank.com/challenges/python-string-formatting)"
   ]
  },
  {
   "cell_type": "code",
   "execution_count": 69,
   "metadata": {},
   "outputs": [
    {
     "name": "stdout",
     "output_type": "stream",
     "text": [
      "    1     1     1     1\n",
      "    2     2     2    10\n",
      "    3     3     3    11\n",
      "    4     4     4   100\n",
      "    5     5     5   101\n",
      "    6     6     6   110\n",
      "    7     7     7   111\n",
      "    8    10     8  1000\n",
      "    9    11     9  1001\n",
      "   10    12     A  1010\n",
      "   11    13     B  1011\n",
      "   12    14     C  1100\n",
      "   13    15     D  1101\n",
      "   14    16     E  1110\n",
      "   15    17     F  1111\n",
      "   16    20    10 10000\n",
      "   17    21    11 10001\n"
     ]
    }
   ],
   "source": [
    "n = 17\n",
    "w = len(\"{0:b}\".format(n))\n",
    "for i in range(1, n+1):\n",
    "    print(\"{0:{w}d} {0:{w}o} {0:{w}X} {0:{w}b}\".format(i, i, i, i, w=w))\n"
   ]
  },
  {
   "cell_type": "markdown",
   "metadata": {},
   "source": [
    "[Alphabet Rangoli](https://www.hackerrank.com/challenges/alphabet-rangoli)"
   ]
  },
  {
   "cell_type": "code",
   "execution_count": 44,
   "metadata": {},
   "outputs": [
    {
     "name": "stdout",
     "output_type": "stream",
     "text": [
      "--------e--------\n",
      "------e-d-e------\n",
      "----e-d-c-d-e----\n",
      "--e-d-c-b-c-d-e--\n",
      "e-d-c-b-a-b-c-d-e\n",
      "--e-d-c-b-c-d-e--\n",
      "----e-d-c-d-e----\n",
      "------e-d-e------\n",
      "--------e--------\n"
     ]
    }
   ],
   "source": [
    "from string import ascii_lowercase\n",
    "size = 5\n",
    "width = 2*(size+size-1)-1\n",
    "for i in range(size-1, -1, -1):\n",
    "    str = ascii_lowercase[i]\n",
    "    for j in range(i+1, size):\n",
    "        str = ascii_lowercase[j] + '-' + str + '-' + ascii_lowercase[j]\n",
    "    print(str.center(width, '-'))\n",
    "for i in range(1, size):\n",
    "    str = ascii_lowercase[i]\n",
    "    for j in range(i+1, size):\n",
    "        str = ascii_lowercase[j] + '-' + str + '-' + ascii_lowercase[j]\n",
    "    print(str.center(width, '-'))\n"
   ]
  },
  {
   "cell_type": "markdown",
   "metadata": {},
   "source": [
    "\n",
    "[Capitalize!](https://www.hackerrank.com/challenges/capitalize)"
   ]
  },
  {
   "cell_type": "code",
   "execution_count": 58,
   "metadata": {
    "scrolled": true
   },
   "outputs": [
    {
     "name": "stdout",
     "output_type": "stream",
     "text": [
      "1 W 2 R 3g Chris R Alan They're Bill's Friends\n"
     ]
    }
   ],
   "source": [
    "s = \"1 w 2 r 3g chris r alan they're bill's friends\"\n",
    "\n",
    "ret = ''\n",
    "for i in range(len(s)):\n",
    "    if s[i].islower() and (i == 0 or s[i-1] == ' '):\n",
    "        ret = ret + s[i].upper()\n",
    "    else:\n",
    "        ret = ret + s[i] \n",
    "\n"
   ]
  },
  {
   "cell_type": "markdown",
   "metadata": {},
   "source": [
    "[ginortS](https://www.hackerrank.com/challenges/ginorts)"
   ]
  },
  {
   "cell_type": "code",
   "execution_count": 36,
   "metadata": {},
   "outputs": [
    {
     "name": "stdout",
     "output_type": "stream",
     "text": [
      "ginortS1324\n"
     ]
    }
   ],
   "source": [
    "def decorate_char(c):\n",
    "    if c.islower():\n",
    "        return 1, c\n",
    "    elif c.isupper():\n",
    "        return 2, c\n",
    "    elif int(c) % 2 == 1:\n",
    "        return 3, c\n",
    "    elif int(c) % 2 == 0:\n",
    "        return 4, c\n",
    "    else:\n",
    "        return 5, c\n",
    "    \n",
    "S = 'Sorting1234' # input()\n",
    "print(''.join(sorted(S, key = decorate_char)))"
   ]
  },
  {
   "cell_type": "markdown",
   "metadata": {},
   "source": [
    "### Date and Time"
   ]
  },
  {
   "cell_type": "markdown",
   "metadata": {},
   "source": [
    "[Calendar Module](https://www.hackerrank.com/challenges/calendar-module)"
   ]
  },
  {
   "cell_type": "code",
   "execution_count": 5,
   "metadata": {},
   "outputs": [
    {
     "name": "stdout",
     "output_type": "stream",
     "text": [
      "08 05 2015\n",
      "WEDNESDAY\n"
     ]
    }
   ],
   "source": [
    "import calendar\n",
    "m, d, y = map(int, input().split())\n",
    "print(calendar.day_name[calendar.weekday(y, m, d)].upper())"
   ]
  },
  {
   "cell_type": "markdown",
   "metadata": {},
   "source": [
    "[Time Delta](https://www.hackerrank.com/challenges/python-time-delta)"
   ]
  },
  {
   "cell_type": "code",
   "execution_count": 32,
   "metadata": {},
   "outputs": [
    {
     "name": "stdout",
     "output_type": "stream",
     "text": [
      "25200\n"
     ]
    }
   ],
   "source": [
    "from datetime import datetime, timedelta\n",
    "#f = open(\"input-timedelta-01.txt\", \"r\", encoding=\"ascii\")\n",
    "#for _ in range(int(f.readline())):\n",
    "#    dt1 = datetime.strptime(f.readline().strip(), '%a %d %b %Y %H:%M:%S %z')\n",
    "#    dt2 = datetime.strptime(f.readline().strip(), '%a %d %b %Y %H:%M:%S %z')\n",
    "#    print(abs(int(timedelta.total_seconds(dt1-dt2))))\n",
    "dt1 = datetime.strptime('Sun 10 May 2015 13:54:36 -0700', '%a %d %b %Y %H:%M:%S %z')\n",
    "dt2 = datetime.strptime('Sun 10 May 2015 13:54:36 -0000', '%a %d %b %Y %H:%M:%S %z')\n",
    "print(abs(int(timedelta.total_seconds(dt1-dt2))))"
   ]
  },
  {
   "cell_type": "markdown",
   "metadata": {},
   "source": [
    "### Basic Data Types"
   ]
  },
  {
   "cell_type": "markdown",
   "metadata": {},
   "source": [
    "### Lists"
   ]
  },
  {
   "cell_type": "markdown",
   "metadata": {},
   "source": [
    "[Find the Runner-Up Score!](https://www.hackerrank.com/challenges/find-second-maximum-number-in-a-list)"
   ]
  },
  {
   "cell_type": "code",
   "execution_count": 22,
   "metadata": {},
   "outputs": [
    {
     "name": "stdout",
     "output_type": "stream",
     "text": [
      "5\n"
     ]
    }
   ],
   "source": [
    "arr = [2, 3, 6, 6, 5]\n",
    "arr2 = [x for x in arr if x != max(arr)]\n",
    "print(max(arr2))"
   ]
  },
  {
   "cell_type": "markdown",
   "metadata": {},
   "source": [
    "[Nested Lists](https://www.hackerrank.com/challenges/nested-list/problem)"
   ]
  },
  {
   "cell_type": "code",
   "execution_count": 79,
   "metadata": {},
   "outputs": [
    {
     "name": "stdout",
     "output_type": "stream",
     "text": [
      "Berry\n",
      "Harry\n"
     ]
    }
   ],
   "source": [
    "students = [['Harry', 37.21], ['Berry', 37.21], ['Tina', 37.2], ['Akriti', 41], ['Harsh', 39]]\n",
    "second_lowest = sorted(list(set([mark for name, mark in students])))[1]\n",
    "for x in sorted([name for name, mark in students if mark == second_lowest]):\n",
    "    print(x)"
   ]
  },
  {
   "cell_type": "markdown",
   "metadata": {},
   "source": [
    "[Finding the percentage](https://www.hackerrank.com/challenges/finding-the-percentage)"
   ]
  },
  {
   "cell_type": "code",
   "execution_count": 114,
   "metadata": {},
   "outputs": [
    {
     "name": "stdout",
     "output_type": "stream",
     "text": [
      "56.00\n"
     ]
    }
   ],
   "source": [
    "student_marks = {\n",
    "    'Krishna': [67, 68, 69],\n",
    "    'Arjun': [70, 98, 63],\n",
    "    'Malika': [52, 56, 60]\n",
    "}\n",
    "query_name = 'Malika'\n",
    "\n",
    "query_marks = student_marks[query_name]\n",
    "print(\"%.2f\" % (sum(query_marks) / len(query_marks)))"
   ]
  },
  {
   "cell_type": "markdown",
   "metadata": {},
   "source": [
    "[Lists](https://www.hackerrank.com/challenges/python-lists)"
   ]
  },
  {
   "cell_type": "code",
   "execution_count": 147,
   "metadata": {
    "scrolled": false
   },
   "outputs": [
    {
     "name": "stdout",
     "output_type": "stream",
     "text": [
      "[6, 5, 10]\n",
      "[1, 5, 9, 10]\n",
      "[9, 5, 1]\n"
     ]
    }
   ],
   "source": [
    "lst = []\n",
    "def proc_command(command):\n",
    "    global lst\n",
    "    actions = command.split()\n",
    "    if actions[0] == 'insert':\n",
    "        lst.insert(int(actions[1]), int(actions[2]))\n",
    "    elif actions[0] == 'print':\n",
    "        print(lst)\n",
    "    elif actions[0] == 'remove':\n",
    "        lst.remove(int(actions[1]))\n",
    "    elif actions[0] == 'append':\n",
    "        lst.append(int(actions[1]))\n",
    "    elif actions[0] == 'sort':\n",
    "        lst.sort()\n",
    "    elif actions[0] == 'pop':\n",
    "        lst.pop()\n",
    "    elif actions[0] == 'reverse':\n",
    "        lst.reverse()\n",
    "    return\n",
    "\n",
    "commands = [\n",
    "  'insert 0 5',\n",
    "  'insert 1 10',\n",
    "  'insert 0 6',\n",
    "  'print',\n",
    "  'remove 6',\n",
    "  'append 9',\n",
    "  'append 1',\n",
    "  'sort',\n",
    "  'print',\n",
    "  'pop',\n",
    "  'reverse',\n",
    "  'print'    \n",
    "]\n",
    "\n",
    "for command in commands:\n",
    "    proc_command(command)"
   ]
  },
  {
   "cell_type": "markdown",
   "metadata": {},
   "source": [
    "[List Comprehensions](https://www.hackerrank.com/challenges/list-comprehensions)"
   ]
  },
  {
   "cell_type": "code",
   "execution_count": 124,
   "metadata": {},
   "outputs": [
    {
     "name": "stdout",
     "output_type": "stream",
     "text": [
      "[[0, 0, 0], [0, 0, 1], [0, 1, 0], [1, 0, 0], [1, 1, 1]]\n"
     ]
    }
   ],
   "source": [
    "x = 1\n",
    "y = 1\n",
    "z = 1\n",
    "n = 2\n",
    "\n",
    "print ([[i, j, k] for i in range(x + 1) for j in range (y + 1) for k in range (z + 1) if i+j+k != n])"
   ]
  },
  {
   "cell_type": "markdown",
   "metadata": {},
   "source": [
    "[Athlete Sort](https://www.hackerrank.com/challenges/python-sort-sort)"
   ]
  },
  {
   "cell_type": "code",
   "execution_count": 17,
   "metadata": {},
   "outputs": [
    {
     "name": "stdout",
     "output_type": "stream",
     "text": [
      "7 1 0\n",
      "10 2 5\n",
      "6 5 9\n",
      "9 9 9\n",
      "1 23 12\n"
     ]
    }
   ],
   "source": [
    "from operator import itemgetter\n",
    "#    nm = input().split()\n",
    "n = 5 # int(nm[0])\n",
    "m = 3 # int(nm[1])\n",
    "arr = [[10, 2, 5], [7, 1, 0], [9, 9, 9], [1, 23, 12], [6, 5, 9]] # []\n",
    "#for _ in range(n):\n",
    "#    arr.append(list(map(int, input().rstrip().split())))\n",
    "k = 1 # int(input())\n",
    "for a in sorted(arr, key = itemgetter(k)): # lambda x: x[k]\n",
    "    print(*a)"
   ]
  },
  {
   "cell_type": "markdown",
   "metadata": {},
   "source": [
    "[Any or All](https://www.hackerrank.com/challenges/any-or-all)"
   ]
  },
  {
   "cell_type": "code",
   "execution_count": 15,
   "metadata": {},
   "outputs": [
    {
     "name": "stdout",
     "output_type": "stream",
     "text": [
      "True\n"
     ]
    }
   ],
   "source": [
    "n = 5 # int(input())\n",
    "arr = [12, 9, 61, 5, 14] # list(map(int, input().rstrip().split())) \n",
    "print(all([x > 0 for x in arr]) and any ([str(x) == str(x)[::-1] for x in arr]))"
   ]
  },
  {
   "cell_type": "markdown",
   "metadata": {},
   "source": [
    "[Tuples](https://www.hackerrank.com/challenges/python-tuples)"
   ]
  },
  {
   "cell_type": "code",
   "execution_count": 159,
   "metadata": {},
   "outputs": [
    {
     "name": "stdout",
     "output_type": "stream",
     "text": [
      "1299869600\n"
     ]
    }
   ],
   "source": [
    "integer_list = map(int, '1 2'.split())\n",
    "print(hash(tuple(integer_list)))"
   ]
  },
  {
   "cell_type": "markdown",
   "metadata": {},
   "source": [
    "### Dictionaries"
   ]
  },
  {
   "cell_type": "markdown",
   "metadata": {},
   "source": [
    "[Two Strings](https://www.hackerrank.com/challenges/two-strings)"
   ]
  },
  {
   "cell_type": "code",
   "execution_count": 40,
   "metadata": {},
   "outputs": [
    {
     "name": "stdout",
     "output_type": "stream",
     "text": [
      "YES\n",
      "NO\n"
     ]
    }
   ],
   "source": [
    "def twoStrings(s1, s2):\n",
    "    letters = {letter for letter in s1}\n",
    "    for letter in s2:\n",
    "        if letter in letters:\n",
    "            return 'YES'\n",
    "    return 'NO'\n",
    "    \n",
    "print(twoStrings('hello', 'world')) # YES\n",
    "print(twoStrings('hi', 'world')) # NO"
   ]
  },
  {
   "cell_type": "markdown",
   "metadata": {},
   "source": [
    "### Sets"
   ]
  },
  {
   "cell_type": "markdown",
   "metadata": {},
   "source": [
    "[Introduction to Sets](https://www.hackerrank.com/challenges/py-introduction-to-sets)"
   ]
  },
  {
   "cell_type": "code",
   "execution_count": 1,
   "metadata": {},
   "outputs": [
    {
     "name": "stdout",
     "output_type": "stream",
     "text": [
      "169.375\n"
     ]
    }
   ],
   "source": [
    "def average(array):\n",
    "    if len(array) == 0:\n",
    "        return 0\n",
    "    array_as_set = set(array)\n",
    "    return sum(array_as_set) / len(array_as_set)\n",
    "    \n",
    "arr = [161, 182, 161, 154, 176, 170, 167, 171, 170, 174]\n",
    "result = average(arr)\n",
    "print(result)    "
   ]
  },
  {
   "cell_type": "markdown",
   "metadata": {},
   "source": [
    "[Set .add()](https://www.hackerrank.com/challenges/py-set-add)"
   ]
  },
  {
   "cell_type": "code",
   "execution_count": 74,
   "metadata": {},
   "outputs": [
    {
     "name": "stdout",
     "output_type": "stream",
     "text": [
      "7\n",
      "UK\n",
      "China\n",
      "USA\n",
      "France\n",
      "New Zealand\n",
      "UK\n",
      "France\n",
      "5\n"
     ]
    }
   ],
   "source": [
    "N = int(input())\n",
    "stamps = set()\n",
    "for i in range(N):\n",
    "    stamps.add(input())\n",
    "print(len(stamps))"
   ]
  },
  {
   "cell_type": "markdown",
   "metadata": {},
   "source": [
    "[Set .discard(), .remove() & .pop()](https://www.hackerrank.com/challenges/py-set-discard-remove-pop/)"
   ]
  },
  {
   "cell_type": "code",
   "execution_count": 81,
   "metadata": {},
   "outputs": [
    {
     "name": "stdout",
     "output_type": "stream",
     "text": [
      "9\n",
      "1 2 3 4 5 6 7 8 9\n",
      "10\n",
      "pop\n",
      "remove 9\n",
      "discard 9\n",
      "discard 8\n",
      "remove 7\n",
      "pop\n",
      "discard 6\n",
      "remove 5\n",
      "pop\n",
      "discard 5\n",
      "4\n"
     ]
    }
   ],
   "source": [
    "n = int(input())\n",
    "s = set(map(int, input().split()))\n",
    "for _ in range(int(input())):\n",
    "    command = input().split()\n",
    "    if command[0] == 'remove':\n",
    "        s.remove(int(command[1]))\n",
    "    elif command[0] == 'discard':\n",
    "        s.discard(int(command[1]))\n",
    "    elif command[0] == 'pop':\n",
    "        s.pop()\n",
    "\n",
    "print(sum(s))"
   ]
  },
  {
   "cell_type": "markdown",
   "metadata": {},
   "source": [
    "[Set .union() Operation](https://www.hackerrank.com/challenges/py-set-union)\n",
    "[Set .intersection() Operation](https://www.hackerrank.com/challenges/py-set-intersection-operation)\n",
    "[Set .difference() Operation](https://www.hackerrank.com/challenges/py-set-difference-operation)\n",
    "[Set .symmetric_difference() Operation](https://www.hackerrank.com/challenges/py-set-symmetric-difference-operation)"
   ]
  },
  {
   "cell_type": "code",
   "execution_count": 87,
   "metadata": {},
   "outputs": [
    {
     "name": "stdout",
     "output_type": "stream",
     "text": [
      "9\n",
      "1 2 3 4 5 6 7 8 9\n",
      "9\n",
      "10 1 2 3 11 21 55 6 8\n",
      "union: 13\n",
      "intersection: 5\n",
      "difference 4\n",
      "symmetric_difference 8\n"
     ]
    }
   ],
   "source": [
    "n = int(input())\n",
    "english = set(map(int, input().split()))\n",
    "m = int(input())\n",
    "french = set(map(int, input().split()))\n",
    "print('union:', len(english.union(french)))\n",
    "print('intersection:', len(english.intersection(french)))\n",
    "print('difference', len(english.difference(french)))\n",
    "print('symmetric_difference', len(english.symmetric_difference(french)))"
   ]
  },
  {
   "cell_type": "markdown",
   "metadata": {},
   "source": [
    "[Symmetric Difference](https://www.hackerrank.com/challenges/symmetric-difference)"
   ]
  },
  {
   "cell_type": "code",
   "execution_count": 39,
   "metadata": {},
   "outputs": [
    {
     "name": "stdout",
     "output_type": "stream",
     "text": [
      "5\n",
      "9\n",
      "11\n",
      "12\n"
     ]
    }
   ],
   "source": [
    "i = 4 # input()\n",
    "N = {2, 4, 5, 9} # set(map(int, input().split()))\n",
    "j = 4 # input()\n",
    "M = {2, 4, 11, 12} # set(map(int, input().split()))\n",
    "R = M.union(N)\n",
    "for r in M.intersection(N):\n",
    "    R.remove(r)\n",
    "print(*sorted(list(R)), sep = '\\n')\n"
   ]
  },
  {
   "cell_type": "markdown",
   "metadata": {},
   "source": [
    "[Set Mutations](https://www.hackerrank.com/challenges/py-set-mutations)"
   ]
  },
  {
   "cell_type": "code",
   "execution_count": 88,
   "metadata": {},
   "outputs": [
    {
     "name": "stdout",
     "output_type": "stream",
     "text": [
      "16\n",
      "1 2 3 4 5 6 7 8 9 10 11 12 13 14 24 52\n",
      "4\n",
      "intersection_update 10\n",
      "2 3 5 6 8 9 1 4 7 11\n",
      "update 2\n",
      "55 66\n",
      "symmetric_difference_update 5\n",
      "22 7 35 62 58\n",
      "difference_update 7\n",
      "11 22 35 55 58 62 66\n",
      "38\n"
     ]
    }
   ],
   "source": [
    "n = int(input())\n",
    "A = set(map(int, input().split()))\n",
    "for _ in range(int(input())):\n",
    "    command = input().split()\n",
    "    B = set(map(int, input().split()))\n",
    "    if command[0] == 'update':\n",
    "        A.update(B)\n",
    "    elif command[0] == 'intersection_update':\n",
    "        A.intersection_update(B)\n",
    "    elif command[0] == 'difference_update':\n",
    "        A.difference_update(B)\n",
    "    elif command[0] == 'symmetric_difference_update':\n",
    "        A.symmetric_difference_update(B)\n",
    "print(sum(A))"
   ]
  },
  {
   "cell_type": "markdown",
   "metadata": {},
   "source": [
    "[The Captain's Room](https://www.hackerrank.com/challenges/py-the-captains-room)"
   ]
  },
  {
   "cell_type": "code",
   "execution_count": 100,
   "metadata": {},
   "outputs": [
    {
     "name": "stdout",
     "output_type": "stream",
     "text": [
      "5\n",
      "1 2 3 6 5 4 4 2 5 3 6 1 6 5 3 2 4 1 2 5 1 4 3 6 8 4 3 1 5 6 2 \n",
      "8\n",
      "8\n",
      "8\n"
     ]
    }
   ],
   "source": [
    "k = int(input())\n",
    "A = list(map(int, input().split()))\n",
    "\n",
    "# Version 1: using counter\n",
    "from collections import Counter\n",
    "rooms = Counter(A)\n",
    "[print(n) for n in rooms if rooms[n] == 1] \n",
    "\n",
    "# Version 2: using sets \n",
    "s1=set()  #all unique room number\n",
    "s2=set()  #all unique room number occur more than once\n",
    "for i in A:\n",
    "    if i in s1:\n",
    "        s2.add(i)\n",
    "    else:\n",
    "        s1.add(i)\n",
    "print(list(s1.difference(s2))[0])\n",
    "\n",
    "# Version 3: using sets\n",
    "R = set(A)\n",
    "#remove set of rooms from original group\n",
    "for r in R:\n",
    "    A.remove(r)\n",
    "#the new set should not contain the captain room\n",
    "non_captain = set(A)\n",
    "#print the poped only remaining element from difference\n",
    "print(R.difference(non_captain).pop())"
   ]
  },
  {
   "cell_type": "markdown",
   "metadata": {},
   "source": [
    "[Check Subset](https://www.hackerrank.com/challenges/py-check-subset)"
   ]
  },
  {
   "cell_type": "code",
   "execution_count": 106,
   "metadata": {
    "scrolled": true
   },
   "outputs": [
    {
     "name": "stdout",
     "output_type": "stream",
     "text": [
      "3\n",
      "5\n",
      "1 2 3 5 6\n",
      "9\n",
      "9 8 5 6 3 2 1 4 7\n",
      "True\n",
      "1\n",
      "2\n",
      "5\n",
      "3 6 5 4 1\n",
      "False\n",
      "7\n",
      "1 2 3 5 6 8 9\n",
      "3\n",
      "9 8 2\n",
      "False\n"
     ]
    }
   ],
   "source": [
    "for _ in range(int(input())):\n",
    "    na, A = int(input()), set(map(int, input().split()))\n",
    "    nb, B = int(input()), set(map(int, input().split()))\n",
    "    print(len(A.difference(B)) == 0)"
   ]
  },
  {
   "cell_type": "markdown",
   "metadata": {},
   "source": [
    "[Check Strict Superset](https://www.hackerrank.com/challenges/py-check-strict-superset)"
   ]
  },
  {
   "cell_type": "code",
   "execution_count": 114,
   "metadata": {
    "scrolled": true
   },
   "outputs": [
    {
     "name": "stdout",
     "output_type": "stream",
     "text": [
      "1 2 3 4 5 6 7 8 9 10 11 12 23 45 84 78\n",
      "2\n",
      "1 2 3 4 5\n",
      "100 11 12\n",
      "False\n"
     ]
    }
   ],
   "source": [
    "A = set(map(int, input().split()))\n",
    "answer = True\n",
    "for _ in range(int(input())):\n",
    "    N = set(map(int, input().split()))\n",
    "    if len(N.difference(A)) != 0 or len(A.difference(N)) == 0:\n",
    "        answer = False\n",
    "print(answer)"
   ]
  },
  {
   "cell_type": "markdown",
   "metadata": {},
   "source": [
    "### Collections"
   ]
  },
  {
   "cell_type": "markdown",
   "metadata": {},
   "source": [
    "[collections.Counter()](https://www.hackerrank.com/challenges/collections-counter)"
   ]
  },
  {
   "cell_type": "code",
   "execution_count": 74,
   "metadata": {},
   "outputs": [
    {
     "name": "stdout",
     "output_type": "stream",
     "text": [
      "6 55\n",
      "6 45\n",
      "6 55\n",
      "4 40\n",
      "18 60\n",
      "10 50\n",
      "200\n"
     ]
    }
   ],
   "source": [
    "from collections import Counter\n",
    "X = 10 # int(input())\n",
    "Sizes = [2, 3, 4, 5, 6, 8, 7, 6, 5, 18] # list(map(int, input.split()))\n",
    "Store = Counter(Sizes)\n",
    "total = 0\n",
    "N = 6 # int(input())\n",
    "for i in range(N):\n",
    "    size, price = map(int, input().split())\n",
    "    if Store[size] > 0:\n",
    "        total += price\n",
    "        Store[size] -= 1\n",
    "    \n",
    "print(total)"
   ]
  },
  {
   "cell_type": "markdown",
   "metadata": {},
   "source": [
    "[DefaultDict Tutorial](https://www.hackerrank.com/challenges/defaultdict-tutorial)"
   ]
  },
  {
   "cell_type": "code",
   "execution_count": 210,
   "metadata": {},
   "outputs": [
    {
     "name": "stdout",
     "output_type": "stream",
     "text": [
      "5 2\n",
      "a\n",
      "a\n",
      "b\n",
      "a\n",
      "b\n",
      "a\n",
      "1 2 4\n",
      "b\n",
      "3 5\n"
     ]
    }
   ],
   "source": [
    "from collections import defaultdict\n",
    "n, m = map(int, input().split())\n",
    "A = []\n",
    "for _ in range(n):\n",
    "    A.append(input())\n",
    "d = defaultdict(list)\n",
    "for _ in range(m):\n",
    "    m_str = input()\n",
    "    for i in range(n):\n",
    "        if A[i] == m_str:\n",
    "            if i+1 not in d[m_str]:            \n",
    "                d[m_str].append(i+1)\n",
    "    if len(d[m_str]) == 0:\n",
    "        print(-1)\n",
    "    else:\n",
    "        print(*d[m_str])"
   ]
  },
  {
   "cell_type": "markdown",
   "metadata": {},
   "source": [
    "[Collections.namedtuple()](https://www.hackerrank.com/challenges/py-collections-namedtuple)"
   ]
  },
  {
   "cell_type": "code",
   "execution_count": 17,
   "metadata": {},
   "outputs": [
    {
     "name": "stdout",
     "output_type": "stream",
     "text": [
      "5\n",
      "ID         MARKS      NAME       CLASS\n",
      "1          97         Raymond    7\n",
      "2          50         Steven     4\n",
      "3          91         Adrian     9\n",
      "4          72         Stewart    5\n",
      "5          80         Peter      6\n",
      "78.00\n"
     ]
    }
   ],
   "source": [
    "from collections import namedtuple\n",
    "N = int(input())\n",
    "Student = namedtuple('Student', input())\n",
    "total = 0\n",
    "for _ in range(N):\n",
    "    stu = Student(*input().split())\n",
    "    total += int(stu.MARKS)\n",
    "print(\"%.2f\" % (total/N))"
   ]
  },
  {
   "cell_type": "markdown",
   "metadata": {},
   "source": [
    "[Collections.OrderedDict()](https://www.hackerrank.com/challenges/py-collections-ordereddict)"
   ]
  },
  {
   "cell_type": "code",
   "execution_count": 23,
   "metadata": {},
   "outputs": [
    {
     "name": "stdout",
     "output_type": "stream",
     "text": [
      "9\n",
      "BANANA FRIES 12\n",
      "POTATO CHIPS 30\n",
      "APPLE JUICE 10\n",
      "CANDY 5\n",
      "APPLE JUICE 10\n",
      "CANDY 5\n",
      "CANDY 5\n",
      "CANDY 5\n",
      "POTATO CHIPS 30\n",
      "BANANA FRIES 12\n",
      "POTATO CHIPS 60\n",
      "APPLE JUICE 20\n",
      "CANDY 20\n"
     ]
    }
   ],
   "source": [
    "from collections import OrderedDict\n",
    "od = OrderedDict()\n",
    "for _ in range(int(input())):\n",
    "    item = input().split()\n",
    "    name = ' '.join(item[:-1])\n",
    "    price = int(item[-1])\n",
    "    if name in od:\n",
    "        od[name] += price\n",
    "    else:\n",
    "        od[name] = price\n",
    "for i in od:\n",
    "    print(i, od[i])"
   ]
  },
  {
   "cell_type": "markdown",
   "metadata": {},
   "source": [
    "[Collections.deque()](https://www.hackerrank.com/challenges/py-collections-deque)"
   ]
  },
  {
   "cell_type": "code",
   "execution_count": 41,
   "metadata": {},
   "outputs": [
    {
     "name": "stdout",
     "output_type": "stream",
     "text": [
      "6\n",
      "append 1\n",
      "append 2\n",
      "append 3\n",
      "appendleft 4\n",
      "pop\n",
      "popleft\n",
      "1 2\n"
     ]
    }
   ],
   "source": [
    "from collections import deque\n",
    "q = deque()\n",
    "for _ in range(int(input())):\n",
    "    command = input().split()\n",
    "    if command[0] == 'append':\n",
    "        q.append(command[1])\n",
    "    elif command[0] == 'pop':\n",
    "        q.pop()\n",
    "    elif command[0] == 'popleft':\n",
    "        q.popleft()\n",
    "    elif command[0] == 'appendleft':\n",
    "        q.appendleft(command[1])\n",
    "print(*q)"
   ]
  },
  {
   "cell_type": "markdown",
   "metadata": {},
   "source": [
    "### Regex"
   ]
  },
  {
   "cell_type": "markdown",
   "metadata": {},
   "source": [
    "[Detect Floating Point Number](https://www.hackerrank.com/challenges/introduction-to-regex)"
   ]
  },
  {
   "cell_type": "code",
   "execution_count": 49,
   "metadata": {},
   "outputs": [
    {
     "name": "stdout",
     "output_type": "stream",
     "text": [
      "4 False\n",
      "4.0O0 False\n",
      "-1.00 True\n",
      "+4.54 True\n",
      ".7 True\n",
      "0.0 True\n",
      "12. False\n",
      "+-3.14 False\n",
      "SomeRandomStuff False\n"
     ]
    }
   ],
   "source": [
    "import re\n",
    "\n",
    "def isfloat(num):\n",
    "    pfloat = re.compile(r'[+-]{0,1}\\d*\\.\\d+')\n",
    "    if pfloat.match(num):\n",
    "        try:\n",
    "            x = float(num)\n",
    "            return True\n",
    "        except:\n",
    "            return False\n",
    "    else:\n",
    "        return False\n",
    "\n",
    "for s in ['4', '4.0O0', '-1.00', '+4.54', '.7', '0.0', \n",
    "          '12.', '+-3.14', 'SomeRandomStuff']:\n",
    "    print(s, isfloat(s))"
   ]
  },
  {
   "cell_type": "markdown",
   "metadata": {},
   "source": [
    "[Re.split()](https://www.hackerrank.com/challenges/re-split)"
   ]
  },
  {
   "cell_type": "code",
   "execution_count": 51,
   "metadata": {},
   "outputs": [
    {
     "name": "stdout",
     "output_type": "stream",
     "text": [
      "100\n",
      "000\n",
      "000\n",
      "000\n"
     ]
    }
   ],
   "source": [
    "import re\n",
    "regex_pattern = r\"[,.]\" # Do not delete 'r'.\n",
    "s = '100,000,000.000' # input()\n",
    "print(\"\\n\".join(re.split(regex_pattern, s)))"
   ]
  },
  {
   "cell_type": "markdown",
   "metadata": {},
   "source": [
    "[Hex Color Code](https://www.hackerrank.com/challenges/hex-color-code)"
   ]
  },
  {
   "cell_type": "code",
   "execution_count": 35,
   "metadata": {},
   "outputs": [
    {
     "name": "stdout",
     "output_type": "stream",
     "text": [
      "#FfFdF8\n",
      "#aef\n",
      "#f9f9f9\n",
      "#fff\n",
      "#ABC\n",
      "#fff\n"
     ]
    }
   ],
   "source": [
    "import re\n",
    "css = '''\n",
    "#BED\n",
    "{\n",
    "    color: #FfFdF8; background-color:#aef;\n",
    "    font-size: 123px;\n",
    "    background: -webkit-linear-gradient(top, #f9f9f9, #fff);\n",
    "}\n",
    "#Cab\n",
    "{\n",
    "    background-color: #ABC;\n",
    "    border: 2px dashed #fff;\n",
    "}\n",
    "'''\n",
    "pblock = re.compile(r'{([^{]+)}')\n",
    "pprop = re.compile(r'[^:]+:([^;]*);')\n",
    "pcolor = re.compile(r'#[0-9A-Fa-f]{3}[0-9A-Fa-f]*')\n",
    "for block in pblock.findall(css):\n",
    "    for prop in pprop.findall(block):\n",
    "        for color in pcolor.findall(prop):\n",
    "            print(color)"
   ]
  },
  {
   "cell_type": "code",
   "execution_count": 10,
   "metadata": {},
   "outputs": [
    {
     "data": {
      "text/plain": [
       "['12', '11', '10']"
      ]
     },
     "execution_count": 10,
     "metadata": {},
     "output_type": "execute_result"
    }
   ],
   "source": [
    "p = re.compile(r'\\d+')\n",
    "p.findall('12 drummers drumming, 11 pipers piping, 10 lords a-leaping')"
   ]
  },
  {
   "cell_type": "markdown",
   "metadata": {},
   "source": [
    "### XML"
   ]
  },
  {
   "cell_type": "markdown",
   "metadata": {},
   "source": [
    "[XML 1 - Find the Score](https://www.hackerrank.com/challenges/xml-1-find-the-score)"
   ]
  },
  {
   "cell_type": "code",
   "execution_count": 165,
   "metadata": {},
   "outputs": [
    {
     "name": "stdout",
     "output_type": "stream",
     "text": [
      "5\n"
     ]
    }
   ],
   "source": [
    "import xml.etree.ElementTree as etree\n",
    "\n",
    "def get_attr_number(node):\n",
    "    # your code goes here\n",
    "    result = len(node.attrib)\n",
    "    for child in node:\n",
    "        result += get_attr_number(child)\n",
    "    return result\n",
    "    \n",
    "xml = '''\n",
    "<feed xml:lang='en'>\n",
    "    <title>HackerRank</title>\n",
    "    <subtitle lang='en'>Programming challenges</subtitle>\n",
    "    <link rel='alternate' type='text/html' href='http://hackerrank.com/'/>\n",
    "    <updated>2013-12-25T12:00:00</updated>\n",
    "</feed>\n",
    "'''\n",
    "tree = etree.ElementTree(etree.fromstring(xml))\n",
    "root = tree.getroot()\n",
    "\n",
    "print(get_attr_number(root))"
   ]
  },
  {
   "cell_type": "markdown",
   "metadata": {},
   "source": [
    "[XML2 - Find the Maximum Depth](https://www.hackerrank.com/challenges/xml2-find-the-maximum-depth)"
   ]
  },
  {
   "cell_type": "code",
   "execution_count": 2,
   "metadata": {},
   "outputs": [
    {
     "name": "stdout",
     "output_type": "stream",
     "text": [
      "1\n",
      "2\n"
     ]
    }
   ],
   "source": [
    "import xml.etree.ElementTree as etree\n",
    "\n",
    "def get_depth(node):\n",
    "    # your code goes here\n",
    "    if len(node) == 0:\n",
    "        return 0\n",
    "    result = 0\n",
    "    for child in node:\n",
    "        result = max(result, get_depth(child))\n",
    "    return result + 1\n",
    "    \n",
    "xml1 = '''\n",
    "<feed xml:lang='en'>\n",
    "    <title>HackerRank</title>\n",
    "    <subtitle lang='en'>Programming challenges</subtitle>\n",
    "    <link rel='alternate' type='text/html' href='http://hackerrank.com/'/>\n",
    "    <updated>2013-12-25T12:00:00</updated>\n",
    "</feed>\n",
    "'''\n",
    "tree = etree.ElementTree(etree.fromstring(xml1))\n",
    "root = tree.getroot()\n",
    "\n",
    "print(get_depth(root)) # 1\n",
    "\n",
    "xml2 = '''\n",
    "<feed xml:lang='en'>\n",
    "  <title>HackerRank</title>\n",
    "  <subtitle lang='en'>Programming challenges</subtitle>\n",
    "  <link rel='alternate' type='text/html' href='http://hackerrank.com/'/>\n",
    "  <updated>2013-12-25T12:00:00</updated>\n",
    "  <entry>\n",
    "  \t<author gender='male'>Harsh</author>\n",
    "    <question type='hard'>XML 1</question>\n",
    "    <description type='text'>This is related to XML parsing</description>\n",
    "  </entry>\n",
    "</feed>\n",
    "'''\n",
    "\n",
    "tree = etree.ElementTree(etree.fromstring(xml2))\n",
    "root = tree.getroot()\n",
    "\n",
    "print(get_depth(root)) # 2"
   ]
  },
  {
   "cell_type": "markdown",
   "metadata": {},
   "source": [
    "### Math"
   ]
  },
  {
   "cell_type": "markdown",
   "metadata": {},
   "source": [
    "[Integers Come In All Sizes](https://www.hackerrank.com/challenges/python-integers-come-in-all-sizes)"
   ]
  },
  {
   "cell_type": "code",
   "execution_count": 115,
   "metadata": {},
   "outputs": [
    {
     "name": "stdout",
     "output_type": "stream",
     "text": [
      "4710194409608608369201743232\n"
     ]
    }
   ],
   "source": [
    "#a, b, c, d = [int(input()) for _ in range(4)]\n",
    "a = 9\n",
    "b = 29\n",
    "c = 7\n",
    "d = 27\n",
    "print(pow(a, b) + pow(c, d))"
   ]
  },
  {
   "cell_type": "markdown",
   "metadata": {},
   "source": [
    "[Triangle Quest](https://www.hackerrank.com/challenges/python-quest-1)"
   ]
  },
  {
   "cell_type": "code",
   "execution_count": 134,
   "metadata": {},
   "outputs": [
    {
     "name": "stdout",
     "output_type": "stream",
     "text": [
      "1\n",
      "22\n",
      "333\n",
      "4444\n"
     ]
    }
   ],
   "source": [
    "N = 5\n",
    "for i in range(1,N): # int(input()):\n",
    "    print(i*(10**i-1) // 9)"
   ]
  },
  {
   "cell_type": "markdown",
   "metadata": {},
   "source": [
    "[Polar Coordinates](https://www.hackerrank.com/challenges/polar-coordinates)"
   ]
  },
  {
   "cell_type": "code",
   "execution_count": 9,
   "metadata": {
    "scrolled": true
   },
   "outputs": [
    {
     "name": "stdout",
     "output_type": "stream",
     "text": [
      "2.23606797749979\n",
      "1.1071487177940904\n"
     ]
    }
   ],
   "source": [
    "import cmath\n",
    "c = complex(\"1+2j\")\n",
    "print(abs(c))\n",
    "print(cmath.phase(c))"
   ]
  },
  {
   "cell_type": "markdown",
   "metadata": {},
   "source": [
    "### Numpy"
   ]
  },
  {
   "cell_type": "markdown",
   "metadata": {},
   "source": [
    "[Polynomials](https://www.hackerrank.com/challenges/np-polynomials)"
   ]
  },
  {
   "cell_type": "code",
   "execution_count": 2,
   "metadata": {},
   "outputs": [
    {
     "name": "stdout",
     "output_type": "stream",
     "text": [
      "1.1 2 3\n",
      "0\n",
      "3.0\n"
     ]
    }
   ],
   "source": [
    "import numpy\n",
    "\n",
    "coefs = list(map(float, input().split())) # 1.1 2 3\n",
    "x = float(input()) # 0\n",
    "print (numpy.polyval(coefs, x))"
   ]
  },
  {
   "cell_type": "markdown",
   "metadata": {},
   "source": [
    "[Linear Algebra](https://www.hackerrank.com/challenges/np-linear-algebra)"
   ]
  },
  {
   "cell_type": "code",
   "execution_count": 4,
   "metadata": {},
   "outputs": [
    {
     "name": "stdout",
     "output_type": "stream",
     "text": [
      "2\n",
      "1.1 1.1\n",
      "1.1 1.1\n",
      "0.0\n"
     ]
    }
   ],
   "source": [
    "n = int(input()) # 2\n",
    "A = [list(map(float, input().split())) for _ in range(n)] \n",
    "# 1.1 1.1\n",
    "# 1.1 1.1\n",
    "print(round(numpy.linalg.det(A), 2)) # 0.0"
   ]
  },
  {
   "cell_type": "markdown",
   "metadata": {},
   "source": [
    "[Floor, Ceil and Rint](https://www.hackerrank.com/challenges/floor-ceil-and-rint)"
   ]
  },
  {
   "cell_type": "code",
   "execution_count": 5,
   "metadata": {
    "scrolled": true
   },
   "outputs": [
    {
     "name": "stdout",
     "output_type": "stream",
     "text": [
      "1.1 2.2 3.3 4.4 5.5 6.6 7.7 8.8 9.9\n",
      "[ 1.  2.  3.  4.  5.  6.  7.  8.  9.]\n",
      "[  2.   3.   4.   5.   6.   7.   8.   9.  10.]\n",
      "[  1.   2.   3.   4.   6.   7.   8.   9.  10.]\n"
     ]
    }
   ],
   "source": [
    "numpy.set_printoptions(sign=' ')\n",
    "\n",
    "A = numpy.array(list(map(float, input().split()))) # 1.1 2.2 3.3 4.4 5.5 6.6 7.7 8.8 9.9\n",
    "print(numpy.floor(A)) # [ 1.  2.  3.  4.  5.  6.  7.  8.  9.]\n",
    "print(numpy.ceil(A)) # [  2.   3.   4.   5.   6.   7.   8.   9.  10.]\n",
    "print(numpy.rint(A)) # [  1.   2.   3.   4.   6.   7.   8.   9.  10.]"
   ]
  },
  {
   "cell_type": "markdown",
   "metadata": {},
   "source": [
    "[Sum and Prod](https://www.hackerrank.com/challenges/np-sum-and-prod)"
   ]
  },
  {
   "cell_type": "code",
   "execution_count": 6,
   "metadata": {},
   "outputs": [
    {
     "name": "stdout",
     "output_type": "stream",
     "text": [
      "2 2\n",
      "1 2\n",
      "3 4\n",
      "24\n"
     ]
    }
   ],
   "source": [
    "n, m = map(int, input().split()) # 2\n",
    "A = [list(map(float, input().split())) for _ in range(n)] \n",
    "print(int(numpy.prod(numpy.sum(A, axis = 0))))"
   ]
  },
  {
   "cell_type": "markdown",
   "metadata": {},
   "source": [
    "### Itertools"
   ]
  },
  {
   "cell_type": "markdown",
   "metadata": {},
   "source": [
    "[Iterables and Iterators](https://www.hackerrank.com/challenges/iterables-and-iterators)"
   ]
  },
  {
   "cell_type": "code",
   "execution_count": 137,
   "metadata": {},
   "outputs": [
    {
     "name": "stdout",
     "output_type": "stream",
     "text": [
      "0.8333333333333334\n"
     ]
    }
   ],
   "source": [
    "from itertools import permutations\n",
    "N = 4 # int(input())\n",
    "L = ['a', 'a', 'c', 'd'] # input().split()\n",
    "K = 2 # int(input())\n",
    "total = 0\n",
    "has_a = 0\n",
    "for perm in permutations(L, K):\n",
    "    total += 1\n",
    "    if 'a' in perm:\n",
    "        has_a += 1\n",
    "print (has_a / total)"
   ]
  },
  {
   "cell_type": "markdown",
   "metadata": {},
   "source": [
    "[itertools.product()](https://www.hackerrank.com/challenges/itertools-product)"
   ]
  },
  {
   "cell_type": "code",
   "execution_count": 72,
   "metadata": {},
   "outputs": [
    {
     "name": "stdout",
     "output_type": "stream",
     "text": [
      "(1, 3) (1, 4) (2, 3) (2, 4)\n"
     ]
    }
   ],
   "source": [
    "from itertools import product\n",
    "A = [1, 2] #A = list(map(int, input().split())) \n",
    "B = [3, 4] #B = list(map(int, input().split())) \n",
    "print(*product(A, B)) # use * for unpacking the containers"
   ]
  },
  {
   "cell_type": "markdown",
   "metadata": {},
   "source": [
    "[itertools.permutations()](https://www.hackerrank.com/challenges/itertools-permutations)"
   ]
  },
  {
   "cell_type": "code",
   "execution_count": 24,
   "metadata": {},
   "outputs": [
    {
     "name": "stdout",
     "output_type": "stream",
     "text": [
      "AC\n",
      "AH\n",
      "AK\n",
      "CA\n",
      "CH\n",
      "CK\n",
      "HA\n",
      "HC\n",
      "HK\n",
      "KA\n",
      "KC\n",
      "KH\n"
     ]
    }
   ],
   "source": [
    "from itertools import permutations\n",
    "S = 'HACK'\n",
    "k = 2\n",
    "#S, k = input().split()\n",
    "#k = int(k)\n",
    "S = sorted(S)\n",
    "for s in [''.join(perm) for perm in permutations(S, k)]:\n",
    "    print(s) "
   ]
  },
  {
   "cell_type": "markdown",
   "metadata": {},
   "source": [
    "[itertools.combinations()](https://www.hackerrank.com/challenges/itertools-combinations)"
   ]
  },
  {
   "cell_type": "code",
   "execution_count": 25,
   "metadata": {},
   "outputs": [
    {
     "name": "stdout",
     "output_type": "stream",
     "text": [
      "A\n",
      "C\n",
      "H\n",
      "K\n",
      "AC\n",
      "AH\n",
      "AK\n",
      "CH\n",
      "CK\n",
      "HK\n"
     ]
    }
   ],
   "source": [
    "from itertools import combinations\n",
    "S = 'HACK'\n",
    "k = 2\n",
    "#S, k = input().split()\n",
    "#k = int(k)\n",
    "S = sorted(S)\n",
    "for i in range(1, k+1):\n",
    "    for s in [''.join(perm) for perm in combinations(S, i)]:\n",
    "        print(s) "
   ]
  },
  {
   "cell_type": "markdown",
   "metadata": {},
   "source": [
    "[itertools.combinations_with_replacement()](https://www.hackerrank.com/challenges/itertools-combinations-with-replacement)"
   ]
  },
  {
   "cell_type": "code",
   "execution_count": 27,
   "metadata": {},
   "outputs": [
    {
     "name": "stdout",
     "output_type": "stream",
     "text": [
      "AA\n",
      "AC\n",
      "AH\n",
      "AK\n",
      "CC\n",
      "CH\n",
      "CK\n",
      "HH\n",
      "HK\n",
      "KK\n"
     ]
    }
   ],
   "source": [
    "from itertools import combinations_with_replacement\n",
    "S = 'HACK'\n",
    "k = 2\n",
    "#S, k = input().split()\n",
    "#k = int(k)\n",
    "S = sorted(S)\n",
    "for s in [''.join(perm) for perm in combinations_with_replacement(S, k)]:\n",
    "    print(s) "
   ]
  },
  {
   "cell_type": "markdown",
   "metadata": {},
   "source": [
    "[Compress the String!](https://www.hackerrank.com/challenges/compress-the-string)"
   ]
  },
  {
   "cell_type": "code",
   "execution_count": 28,
   "metadata": {},
   "outputs": [
    {
     "name": "stdout",
     "output_type": "stream",
     "text": [
      "(1, 1) (3, 2) (1, 3) (2, 1)\n"
     ]
    }
   ],
   "source": [
    "from itertools import groupby\n",
    "S = '1222311' # input()\n",
    "print(*[ (len(list(g)), int(k)) for k, g in groupby(S)])"
   ]
  },
  {
   "cell_type": "markdown",
   "metadata": {},
   "source": [
    "[Maximize It!](https://www.hackerrank.com/challenges/maximize-it)"
   ]
  },
  {
   "cell_type": "code",
   "execution_count": 155,
   "metadata": {},
   "outputs": [
    {
     "name": "stdout",
     "output_type": "stream",
     "text": [
      "206\n"
     ]
    }
   ],
   "source": [
    "from itertools import product\n",
    "\n",
    "def f(x):\n",
    "    return x**2\n",
    "\n",
    "K, M = 3, 1000\n",
    "N = [[5, 4], [7, 8, 9], [5, 7, 8, 9, 10]]\n",
    "print(max([sum(list(map(f, t))) % M for t in product(*N)]))"
   ]
  },
  {
   "cell_type": "markdown",
   "metadata": {},
   "source": [
    "### Closures and Decorators"
   ]
  },
  {
   "cell_type": "code",
   "execution_count": 113,
   "metadata": {},
   "outputs": [
    {
     "name": "stdout",
     "output_type": "stream",
     "text": [
      "31\n",
      "41\n"
     ]
    }
   ],
   "source": [
    "# basic decorator example\n",
    "def wrapper(func_we_decorate):\n",
    "    def decorator(param_to_func):\n",
    "        return func_we_decorate(param_to_func) + 1\n",
    "    return decorator\n",
    "\n",
    "#long form\n",
    "def decorated_long_form(num):\n",
    "    return num * 10\n",
    "decorated_long_form = wrapper(decorated_long_form)\n",
    "print(decorated_long_form(3))\n",
    "\n",
    "#short form\n",
    "@wrapper\n",
    "def decorated_short_form(num):\n",
    "    return num * 10\n",
    "print(decorated_short_form(4))"
   ]
  },
  {
   "cell_type": "markdown",
   "metadata": {},
   "source": [
    "[Standardize Mobile Number Using Decorators](https://www.hackerrank.com/challenges/standardize-mobile-number-using-decorators)"
   ]
  },
  {
   "cell_type": "code",
   "execution_count": 67,
   "metadata": {},
   "outputs": [
    {
     "name": "stdout",
     "output_type": "stream",
     "text": [
      "3\n",
      "9195969878\n",
      "919875641230\n",
      "07895462130\n",
      "+91 78954 62130\n",
      "+91 91959 69878\n",
      "+91 98756 41230\n"
     ]
    }
   ],
   "source": [
    "def wrapper(f):\n",
    "    def fun(l):\n",
    "        f(\"+91 \" + x[-10:-5] + \" \" + x[-5:] for x in l)\n",
    "    return fun\n",
    "\n",
    "@wrapper\n",
    "def sort_phone(l):\n",
    "    print(*sorted(l), sep='\\n')\n",
    "\n",
    "l = [input() for _ in range(int(input()))]\n",
    "sort_phone(l) \n"
   ]
  },
  {
   "cell_type": "markdown",
   "metadata": {},
   "source": [
    "[Decorators 2 - Name Directory](https://www.hackerrank.com/challenges/decorators-2-name-directory)"
   ]
  },
  {
   "cell_type": "code",
   "execution_count": 106,
   "metadata": {},
   "outputs": [
    {
     "name": "stdout",
     "output_type": "stream",
     "text": [
      "3\n",
      "Mike Thomson 20 M\n",
      "Robert Bustle 32 M\n",
      "Andria Bustle 30 F\n",
      "Mr. Mike Thomson\n",
      "Ms. Andria Bustle\n",
      "Mr. Robert Bustle\n"
     ]
    }
   ],
   "source": [
    "from operator import itemgetter\n",
    "\n",
    "def person_lister(name_format):\n",
    "    def inner(people):\n",
    "        return map(name_format, sorted(people, key = lambda x : int(operator.itemgetter(2)(x))))\n",
    "    return inner\n",
    "\n",
    "@person_lister\n",
    "def name_format(person):\n",
    "    return (\"Mr. \" if person[3] == \"M\" else \"Ms. \") + person[0] + \" \" + person[1]\n",
    "\n",
    "if __name__ == '__main__':\n",
    "    people = [input().split() for i in range(int(input()))]\n",
    "    print(*name_format(people), sep='\\n')    "
   ]
  },
  {
   "cell_type": "code",
   "execution_count": null,
   "metadata": {},
   "outputs": [],
   "source": []
  },
  {
   "cell_type": "code",
   "execution_count": null,
   "metadata": {},
   "outputs": [],
   "source": []
  },
  {
   "cell_type": "code",
   "execution_count": null,
   "metadata": {},
   "outputs": [],
   "source": [
    "\n"
   ]
  },
  {
   "cell_type": "code",
   "execution_count": null,
   "metadata": {},
   "outputs": [],
   "source": []
  }
 ],
 "metadata": {
  "kernelspec": {
   "display_name": "Python 3",
   "language": "python",
   "name": "python3"
  },
  "language_info": {
   "codemirror_mode": {
    "name": "ipython",
    "version": 3
   },
   "file_extension": ".py",
   "mimetype": "text/x-python",
   "name": "python",
   "nbconvert_exporter": "python",
   "pygments_lexer": "ipython3",
   "version": "3.6.4"
  }
 },
 "nbformat": 4,
 "nbformat_minor": 2
}
